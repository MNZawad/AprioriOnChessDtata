{
  "nbformat": 4,
  "nbformat_minor": 0,
  "metadata": {
    "colab": {
      "name": "Mypriori.ipynb",
      "provenance": [],
      "collapsed_sections": []
    },
    "kernelspec": {
      "name": "python3",
      "display_name": "Python 3"
    },
    "language_info": {
      "name": "python"
    }
  },
  "cells": [
    {
      "cell_type": "code",
      "metadata": {
        "id": "j2-nDn7M4Hch"
      },
      "source": [
        "#pip install mlxtend --upgrade --no-deps"
      ],
      "execution_count": 1,
      "outputs": []
    },
    {
      "cell_type": "code",
      "metadata": {
        "id": "YL0SyjRb1xxO"
      },
      "source": [
        "import numpy as np\n",
        "import time\n",
        "import matplotlib.pyplot as plt\n",
        "import pandas as pd\n",
        "from mlxtend.frequent_patterns import apriori, association_rules,fpgrowth\n",
        "from mlxtend.preprocessing import TransactionEncoder\n",
        "import csv"
      ],
      "execution_count": 2,
      "outputs": []
    },
    {
      "cell_type": "markdown",
      "metadata": {
        "id": "7zGQrv3Bp8EO"
      },
      "source": [
        "# Apriori On chess"
      ]
    },
    {
      "cell_type": "code",
      "metadata": {
        "id": "gUGa8V3qp6pL"
      },
      "source": [
        "acc_list_of_arrays=[]\n",
        "with open('/content/chess.dat', 'r') as file:\n",
        "    dataset = csv.reader(file, delimiter=' ')\n",
        "    for row in dataset:\n",
        "        temp=[element for element in row]\n",
        "        temp= temp[:-1]\n",
        "        acc_list_of_arrays.append(temp)"
      ],
      "execution_count": 3,
      "outputs": []
    },
    {
      "cell_type": "code",
      "metadata": {
        "colab": {
          "base_uri": "https://localhost:8080/"
        },
        "id": "pXi2cVsep6pN",
        "outputId": "46847e2f-1d5d-4a90-b1b2-abd96da9d02d"
      },
      "source": [
        "\n",
        "apc_times = list()\n",
        "apc_elements = list()\n",
        "minsupport = .6\n",
        "while minsupport <=1:\n",
        "  start = time.process_time()\n",
        "  te = TransactionEncoder()\n",
        "  te_ary = te.fit(acc_list_of_arrays).transform(acc_list_of_arrays)\n",
        "  df = pd.DataFrame(te_ary, columns=te.columns_)\n",
        "  result= apriori(df, min_support= minsupport, use_colnames=True)\n",
        "  apc_elements.append(minsupport)    \n",
        "  end = time.process_time()\n",
        "  apc_times.append(end-start)\n",
        "  print (result)\n",
        "  # total time taken\n",
        "  print(f\"Runtime of the program is {end - start}\")\n",
        "  minsupport +=.05"
      ],
      "execution_count": 4,
      "outputs": [
        {
          "output_type": "stream",
          "text": [
            "         support                                           itemsets\n",
            "0       0.666145                                               (11)\n",
            "1       0.633917                                               (15)\n",
            "2       0.782228                                               (17)\n",
            "3       0.619524                                               (19)\n",
            "4       0.696183                                               (21)\n",
            "...          ...                                                ...\n",
            "254939  0.600125  (66, 58, 29, 34, 5, 52, 3, 9, 60, 40, 56, 36, ...\n",
            "254940  0.607009  (66, 58, 7, 29, 34, 52, 3, 9, 60, 40, 56, 36, ...\n",
            "254941  0.601377  (58, 7, 29, 34, 5, 52, 3, 9, 60, 40, 56, 36, 6...\n",
            "254942  0.611702  (66, 58, 7, 29, 34, 5, 52, 42, 60, 40, 56, 36,...\n",
            "254943  0.635795  (66, 58, 7, 29, 34, 5, 52, 9, 60, 40, 56, 36, ...\n",
            "\n",
            "[254944 rows x 2 columns]\n",
            "Runtime of the program is 30.991085988000002\n",
            "         support                                           itemsets\n",
            "0       0.666145                                               (11)\n",
            "1       0.782228                                               (17)\n",
            "2       0.696183                                               (21)\n",
            "3       0.894869                                               (25)\n",
            "4       0.689925                                               (27)\n",
            "...          ...                                                ...\n",
            "111234  0.656446  (66, 58, 7, 29, 34, 5, 52, 9, 60, 40, 56, 36, 48)\n",
            "111235  0.658010  (66, 58, 7, 29, 34, 5, 52, 9, 60, 40, 36, 62, 48)\n",
            "111236  0.666145  (66, 58, 7, 29, 34, 52, 9, 60, 40, 56, 36, 62,...\n",
            "111237  0.659887  (58, 7, 29, 34, 5, 52, 9, 60, 40, 56, 36, 62, 66)\n",
            "111238  0.652065  (66, 58, 7, 29, 5, 52, 9, 60, 40, 56, 36, 62, 48)\n",
            "\n",
            "[111239 rows x 2 columns]\n",
            "Runtime of the program is 11.767942865000002\n",
            "        support                                           itemsets\n",
            "0      0.782228                                               (17)\n",
            "1      0.894869                                               (25)\n",
            "2      0.995307                                               (29)\n",
            "3      0.888298                                                (3)\n",
            "4      0.790363                                               (31)\n",
            "...         ...                                                ...\n",
            "48726  0.705569     (66, 58, 7, 29, 34, 5, 52, 60, 56, 36, 62, 48)\n",
            "48727  0.710263     (66, 58, 7, 29, 34, 5, 52, 60, 40, 56, 62, 48)\n",
            "48728  0.720901     (66, 58, 7, 29, 5, 52, 60, 40, 56, 36, 62, 48)\n",
            "48729  0.702753     (66, 58, 7, 34, 5, 52, 60, 40, 56, 36, 62, 48)\n",
            "48730  0.702128  (66, 58, 7, 29, 34, 5, 52, 60, 40, 56, 36, 62,...\n",
            "\n",
            "[48731 rows x 2 columns]\n",
            "Runtime of the program is 4.751419583000001\n",
            "        support                                     itemsets\n",
            "0      0.782228                                         (17)\n",
            "1      0.894869                                         (25)\n",
            "2      0.995307                                         (29)\n",
            "3      0.888298                                          (3)\n",
            "4      0.790363                                         (31)\n",
            "...         ...                                          ...\n",
            "20841  0.758135   (58, 7, 29, 34, 5, 52, 60, 40, 36, 62, 66)\n",
            "20842  0.761890  (58, 7, 29, 34, 52, 60, 56, 40, 36, 62, 66)\n",
            "20843  0.756571   (58, 7, 29, 34, 5, 52, 60, 56, 40, 62, 66)\n",
            "20844  0.755945   (66, 58, 7, 29, 5, 52, 60, 40, 36, 62, 48)\n",
            "20845  0.770025  (66, 58, 7, 29, 52, 60, 56, 40, 36, 62, 48)\n",
            "\n",
            "[20846 rows x 2 columns]\n",
            "Runtime of the program is 1.5776322429999965\n",
            "       support                                  itemsets\n",
            "0     0.894869                                      (25)\n",
            "1     0.995307                                      (29)\n",
            "2     0.888298                                       (3)\n",
            "3     0.951189                                      (34)\n",
            "4     0.969650                                      (36)\n",
            "...        ...                                       ...\n",
            "8222  0.806320       (66, 58, 7, 52, 60, 40, 36, 62, 48)\n",
            "8223  0.803191  (66, 58, 29, 34, 52, 60, 40, 36, 62, 48)\n",
            "8224  0.804130   (66, 58, 7, 29, 34, 52, 60, 40, 36, 48)\n",
            "8225  0.801627   (58, 7, 29, 52, 60, 56, 40, 36, 62, 48)\n",
            "8226  0.805069   (66, 58, 7, 29, 52, 60, 40, 36, 62, 48)\n",
            "\n",
            "[8227 rows x 2 columns]\n",
            "Runtime of the program is 0.6545174620000012\n",
            "       support                          itemsets\n",
            "0     0.894869                              (25)\n",
            "1     0.995307                              (29)\n",
            "2     0.888298                               (3)\n",
            "3     0.951189                              (34)\n",
            "4     0.969650                              (36)\n",
            "...        ...                               ...\n",
            "2664  0.866395   (58, 7, 29, 52, 60, 40, 36, 66)\n",
            "2665  0.850438   (66, 58, 7, 29, 52, 60, 40, 48)\n",
            "2666  0.853567  (58, 29, 52, 60, 56, 40, 62, 66)\n",
            "2667  0.860763   (58, 7, 29, 52, 60, 56, 40, 62)\n",
            "2668  0.859512   (58, 7, 29, 52, 60, 40, 62, 66)\n",
            "\n",
            "[2669 rows x 2 columns]\n",
            "Runtime of the program is 0.23711053000000248\n",
            "      support                      itemsets\n",
            "0    0.995307                          (29)\n",
            "1    0.951189                          (34)\n",
            "2    0.969650                          (36)\n",
            "3    0.991865                          (40)\n",
            "4    0.942741                          (48)\n",
            "..        ...                           ...\n",
            "617  0.906446       (58, 7, 52, 60, 40, 36)\n",
            "618  0.910513  (58, 29, 52, 60, 40, 36, 48)\n",
            "619  0.900501  (58, 29, 52, 60, 40, 36, 62)\n",
            "620  0.901126  (58, 29, 52, 60, 40, 36, 66)\n",
            "621  0.904255   (58, 7, 29, 52, 60, 40, 36)\n",
            "\n",
            "[622 rows x 2 columns]\n",
            "Runtime of the program is 0.0806772220000056\n",
            "     support              itemsets\n",
            "0   0.995307                  (29)\n",
            "1   0.951189                  (34)\n",
            "2   0.969650                  (36)\n",
            "3   0.991865                  (40)\n",
            "4   0.996558                  (52)\n",
            "..       ...                   ...\n",
            "72  0.951189      (52, 60, 58, 36)\n",
            "73  0.973717      (52, 60, 58, 40)\n",
            "74  0.950563       (52, 58, 7, 40)\n",
            "75  0.953066  (58, 29, 52, 36, 40)\n",
            "76  0.969650  (58, 29, 52, 60, 40)\n",
            "\n",
            "[77 rows x 2 columns]\n",
            "Runtime of the program is 0.04701179799999977\n"
          ],
          "name": "stdout"
        }
      ]
    },
    {
      "cell_type": "code",
      "metadata": {
        "id": "hg9VRv_-MCIw",
        "colab": {
          "base_uri": "https://localhost:8080/",
          "height": 279
        },
        "outputId": "b7435e93-8c2a-431a-9c4a-edfdec421a76"
      },
      "source": [
        "plt.xlabel('List Length')\n",
        "plt.ylabel('Time Complexity')\n",
        "plt.plot(apc_elements, apc_times, label ='Apriori')\n",
        "plt.grid()\n",
        "plt.legend()\n",
        "plt.savefig('AprioriChess.pdf',bbox_inches='tight')\n",
        "plt.show()\n"
      ],
      "execution_count": 5,
      "outputs": [
        {
          "output_type": "display_data",
          "data": {
            "image/png": "[encoded data removed]",
            "text/plain": [
              "<Figure size 432x288 with 1 Axes>"
            ]
          },
          "metadata": {
            "tags": [],
            "needs_background": "light"
          }
        }
      ]
    },
    {
      "cell_type": "markdown",
      "metadata": {
        "id": "krJgZ24kqLj9"
      },
      "source": [
        "# Apriori on Kosarak"
      ]
    },
    {
      "cell_type": "code",
      "metadata": {
        "id": "Gla6HsNw4BYh"
      },
      "source": [
        "acc_list_of_arrays=[]\n",
        "with open('/content/kosarak.dat', 'r') as file:\n",
        "    dataset = csv.reader(file, delimiter=' ')\n",
        "    for row in dataset:\n",
        "        temp=[element for element in row]\n",
        "        acc_list_of_arrays.append(temp)"
      ],
      "execution_count": 6,
      "outputs": []
    },
    {
      "cell_type": "code",
      "metadata": {
        "id": "7ylgvNtVLBL0"
      },
      "source": [
        "del acc_list_of_arrays[200000:]"
      ],
      "execution_count": 7,
      "outputs": []
    },
    {
      "cell_type": "code",
      "metadata": {
        "colab": {
          "base_uri": "https://localhost:8080/"
        },
        "id": "BxD0Z9G9Mw1k",
        "outputId": "e5dc6221-52d8-4fcb-ff7f-1fcdda237bc1"
      },
      "source": [
        "\n",
        "apk_times = list()\n",
        "apk_elements = list()\n",
        "minsupport = .6\n",
        "while minsupport <=1:\n",
        "  start = time.process_time()\n",
        "  te = TransactionEncoder()\n",
        "  te_ary = te.fit(acc_list_of_arrays).transform(acc_list_of_arrays)\n",
        "  df = pd.DataFrame(te_ary, columns=te.columns_)\n",
        "  result= apriori(df, min_support= minsupport, use_colnames=True)\n",
        "  apk_elements.append(minsupport)    \n",
        "  end = time.process_time()\n",
        "  apk_times.append(end-start)\n",
        "  print (result)\n",
        "  # total time taken\n",
        "  print(f\"Runtime of the program is {end - start}\")\n",
        "  minsupport +=.05"
      ],
      "execution_count": 8,
      "outputs": [
        {
          "output_type": "stream",
          "text": [
            "    support itemsets\n",
            "0  0.607165      (6)\n",
            "Runtime of the program is 6.300069037\n",
            "Empty DataFrame\n",
            "Columns: [support, itemsets]\n",
            "Index: []\n",
            "Runtime of the program is 8.523334921999997\n",
            "Empty DataFrame\n",
            "Columns: [support, itemsets]\n",
            "Index: []\n",
            "Runtime of the program is 6.474959956000006\n",
            "Empty DataFrame\n",
            "Columns: [support, itemsets]\n",
            "Index: []\n",
            "Runtime of the program is 6.678232906999995\n",
            "Empty DataFrame\n",
            "Columns: [support, itemsets]\n",
            "Index: []\n",
            "Runtime of the program is 6.213053953999989\n",
            "Empty DataFrame\n",
            "Columns: [support, itemsets]\n",
            "Index: []\n",
            "Runtime of the program is 6.686615412999998\n",
            "Empty DataFrame\n",
            "Columns: [support, itemsets]\n",
            "Index: []\n",
            "Runtime of the program is 6.195890622999997\n",
            "Empty DataFrame\n",
            "Columns: [support, itemsets]\n",
            "Index: []\n",
            "Runtime of the program is 6.6705198420000045\n"
          ],
          "name": "stdout"
        }
      ]
    },
    {
      "cell_type": "code",
      "metadata": {
        "colab": {
          "base_uri": "https://localhost:8080/",
          "height": 279
        },
        "id": "_c3yS_Vzqp4E",
        "outputId": "731ec0b4-685a-47b3-e62a-6045420588b8"
      },
      "source": [
        "plt.xlabel('List Length')\n",
        "plt.ylabel('Time Complexity')\n",
        "plt.plot(apk_elements, apk_times, label ='Apriori')\n",
        "plt.grid()\n",
        "plt.legend()\n",
        "plt.savefig('Apriorikosarak.pdf',bbox_inches='tight')\n",
        "plt.show()\n"
      ],
      "execution_count": 9,
      "outputs": [
        {
          "output_type": "display_data",
          "data": {
            "image/png": "[encoded data removed]",
            "text/plain": [
              "<Figure size 432x288 with 1 Axes>"
            ]
          },
          "metadata": {
            "tags": [],
            "needs_background": "light"
          }
        }
      ]
    },
    {
      "cell_type": "markdown",
      "metadata": {
        "id": "Y_Y42144qw8p"
      },
      "source": [
        "# FP-Growth on Chess"
      ]
    },
    {
      "cell_type": "code",
      "metadata": {
        "id": "ZQehzTRLqw8r"
      },
      "source": [
        "acc_list_of_arrays=[]\n",
        "with open('/content/chess.dat', 'r') as file:\n",
        "    dataset = csv.reader(file, delimiter=' ')\n",
        "    for row in dataset:\n",
        "        temp=[element for element in row]\n",
        "        acc_list_of_arrays.append(temp)"
      ],
      "execution_count": 10,
      "outputs": []
    },
    {
      "cell_type": "code",
      "metadata": {
        "colab": {
          "base_uri": "https://localhost:8080/"
        },
        "id": "NDmngzHiqw8s",
        "outputId": "f06b510a-8997-4bb2-9146-c48d0c5b90eb"
      },
      "source": [
        "\n",
        "fpc_times = list()\n",
        "fpc_elements = list()\n",
        "minsupport = .6\n",
        "while minsupport <=1:\n",
        "  start = time.process_time()\n",
        "  te = TransactionEncoder()\n",
        "  te_ary = te.fit(acc_list_of_arrays).transform(acc_list_of_arrays)\n",
        "  df = pd.DataFrame(te_ary, columns=te.columns_)\n",
        "  result= fpgrowth(df, min_support= minsupport, use_colnames=True)\n",
        "  fpc_elements.append(minsupport)    \n",
        "  end = time.process_time()\n",
        "  fpc_times.append(end-start)\n",
        "  print (result)\n",
        "  # total time taken\n",
        "  print(f\"Runtime of the program is {end - start}\")\n",
        "  minsupport +=.05"
      ],
      "execution_count": 11,
      "outputs": [
        {
          "output_type": "stream",
          "text": [
            "         support               itemsets\n",
            "0       1.000000                     ()\n",
            "1       0.999687                   (58)\n",
            "2       0.996558                   (52)\n",
            "3       0.995307                   (29)\n",
            "4       0.991865                   (40)\n",
            "...          ...                    ...\n",
            "509884  0.600751     (, 58, 50, 40, 62)\n",
            "509885  0.600751      (, 58, 7, 50, 62)\n",
            "509886  0.600751      (, 7, 50, 40, 62)\n",
            "509887  0.600751    (58, 7, 50, 40, 62)\n",
            "509888  0.600751  (, 58, 7, 50, 40, 62)\n",
            "\n",
            "[509889 rows x 2 columns]\n",
            "Runtime of the program is 10.498738275999997\n",
            "         support        itemsets\n",
            "0       1.000000              ()\n",
            "1       0.999687            (58)\n",
            "2       0.996558            (52)\n",
            "3       0.995307            (29)\n",
            "4       0.991865            (40)\n",
            "...          ...             ...\n",
            "222474  0.653630      (, 11, 60)\n",
            "222475  0.653317    (11, 60, 58)\n",
            "222476  0.650188    (52, 11, 60)\n",
            "222477  0.653317  (, 11, 60, 58)\n",
            "222478  0.650188  (52, 11, 60, )\n",
            "\n",
            "[222479 rows x 2 columns]\n",
            "Runtime of the program is 4.45926185399999\n",
            "        support                       itemsets\n",
            "0      1.000000                             ()\n",
            "1      0.999687                           (58)\n",
            "2      0.996558                           (52)\n",
            "3      0.995307                           (29)\n",
            "4      0.991865                           (40)\n",
            "...         ...                            ...\n",
            "97458  0.702753      (, 58, 7, 52, 60, 72, 66)\n",
            "97459  0.702753      (, 58, 7, 29, 60, 72, 66)\n",
            "97460  0.702753      (, 7, 29, 52, 60, 72, 66)\n",
            "97461  0.702753    (58, 7, 29, 52, 60, 72, 66)\n",
            "97462  0.702753  (, 58, 7, 29, 52, 60, 72, 66)\n",
            "\n",
            "[97463 rows x 2 columns]\n",
            "Runtime of the program is 2.0446920629999994\n",
            "        support        itemsets\n",
            "0      1.000000              ()\n",
            "1      0.999687            (58)\n",
            "2      0.996558            (52)\n",
            "3      0.995307            (29)\n",
            "4      0.991865            (40)\n",
            "...         ...             ...\n",
            "41688  0.751877    (58, 36, 17)\n",
            "41689  0.751877  (, 58, 36, 17)\n",
            "41690  0.753129          (, 74)\n",
            "41691  0.752816        (58, 74)\n",
            "41692  0.752816      (, 58, 74)\n",
            "\n",
            "[41693 rows x 2 columns]\n",
            "Runtime of the program is 1.0812781379999876\n",
            "        support                itemsets\n",
            "0      1.000000                      ()\n",
            "1      0.999687                    (58)\n",
            "2      0.996558                    (52)\n",
            "3      0.995307                    (29)\n",
            "4      0.991865                    (40)\n",
            "...         ...                     ...\n",
            "16450  0.800688    (58, 29, 52, 40, 44)\n",
            "16451  0.800688  (, 58, 29, 52, 40, 44)\n",
            "16452  0.802566              (, 60, 44)\n",
            "16453  0.802253            (44, 60, 58)\n",
            "16454  0.802253          (, 44, 60, 58)\n",
            "\n",
            "[16455 rows x 2 columns]\n",
            "Runtime of the program is 0.39637392599999544\n",
            "       support           itemsets\n",
            "0     1.000000                 ()\n",
            "1     0.999687               (58)\n",
            "2     0.996558               (52)\n",
            "3     0.995307               (29)\n",
            "4     0.991865               (40)\n",
            "...        ...                ...\n",
            "5334  0.852315        (3, 62, 29)\n",
            "5335  0.852315      (, 3, 62, 58)\n",
            "5336  0.852315      (, 3, 62, 29)\n",
            "5337  0.852315    (3, 62, 58, 29)\n",
            "5338  0.852315  (, 58, 29, 3, 62)\n",
            "\n",
            "[5339 rows x 2 columns]\n",
            "Runtime of the program is 0.18600572299999385\n",
            "       support           itemsets\n",
            "0     1.000000                 ()\n",
            "1     0.999687               (58)\n",
            "2     0.996558               (52)\n",
            "3     0.995307               (29)\n",
            "4     0.991865               (40)\n",
            "...        ...                ...\n",
            "1240  0.902378    (58, 29, 34, 5)\n",
            "1241  0.902378  (, 58, 29, 34, 5)\n",
            "1242  0.901126      (52, , 34, 5)\n",
            "1243  0.900814    (52, 58, 34, 5)\n",
            "1244  0.900814  (, 58, 34, 5, 52)\n",
            "\n",
            "[1245 rows x 2 columns]\n",
            "Runtime of the program is 0.1234300350000126\n",
            "      support        itemsets\n",
            "0    1.000000              ()\n",
            "1    0.999687            (58)\n",
            "2    0.996558            (52)\n",
            "3    0.995307            (29)\n",
            "4    0.991865            (40)\n",
            "..        ...             ...\n",
            "150  0.952753    (58, 29, 62)\n",
            "151  0.952753  (, 58, 29, 62)\n",
            "152  0.951189          (, 34)\n",
            "153  0.950876        (58, 34)\n",
            "154  0.950876      (, 58, 34)\n",
            "\n",
            "[155 rows x 2 columns]\n",
            "Runtime of the program is 0.08695320699999343\n"
          ],
          "name": "stdout"
        }
      ]
    },
    {
      "cell_type": "code",
      "metadata": {
        "colab": {
          "base_uri": "https://localhost:8080/",
          "height": 279
        },
        "id": "D5k22An8qw8u",
        "outputId": "fd76bbee-aae5-4860-983c-639b88f1956b"
      },
      "source": [
        "plt.xlabel('List Length')\n",
        "plt.ylabel('Time Complexity')\n",
        "plt.plot(fpc_elements, fpc_times, label ='Fp-Growth')\n",
        "plt.grid()\n",
        "plt.legend()\n",
        "plt.savefig('FpgrowthChess.pdf',bbox_inches='tight')\n",
        "plt.show()\n"
      ],
      "execution_count": 12,
      "outputs": [
        {
          "output_type": "display_data",
          "data": {
            "image/png": "[encoded data removed]",
            "text/plain": [
              "<Figure size 432x288 with 1 Axes>"
            ]
          },
          "metadata": {
            "tags": [],
            "needs_background": "light"
          }
        }
      ]
    },
    {
      "cell_type": "markdown",
      "metadata": {
        "id": "rbnCGZ7mqw8w"
      },
      "source": [
        "# FP-Growth on Kosarak"
      ]
    },
    {
      "cell_type": "code",
      "metadata": {
        "id": "Z1f-AFLjqw8x"
      },
      "source": [
        "acc_list_of_arrays=[]\n",
        "with open('/content/kosarak.dat', 'r') as file:\n",
        "    dataset = csv.reader(file, delimiter=' ')\n",
        "    for row in dataset:\n",
        "        temp=[element for element in row]\n",
        "        acc_list_of_arrays.append(temp)"
      ],
      "execution_count": 13,
      "outputs": []
    },
    {
      "cell_type": "code",
      "metadata": {
        "id": "Z0RLl1CCqw8y"
      },
      "source": [
        "del acc_list_of_arrays[200000:]"
      ],
      "execution_count": 14,
      "outputs": []
    },
    {
      "cell_type": "code",
      "metadata": {
        "colab": {
          "base_uri": "https://localhost:8080/"
        },
        "id": "LExfa7jPqw80",
        "outputId": "8088ade4-98f9-4c4d-b252-0bbc2dce767c"
      },
      "source": [
        "\n",
        "fpk_times = list()\n",
        "fpk_elements = list()\n",
        "minsupport = .6\n",
        "while minsupport <=1:\n",
        "  start = time.process_time()\n",
        "  te = TransactionEncoder()\n",
        "  te_ary = te.fit(acc_list_of_arrays).transform(acc_list_of_arrays)\n",
        "  df = pd.DataFrame(te_ary, columns=te.columns_)\n",
        "  result= fpgrowth(df, min_support= minsupport, use_colnames=True)\n",
        "  fpk_elements.append(minsupport)    \n",
        "  end = time.process_time()\n",
        "  fpk_times.append(end-start)\n",
        "  print (result)\n",
        "  # total time taken\n",
        "  print(f\"Runtime of the program is {end - start}\")\n",
        "  minsupport +=.05"
      ],
      "execution_count": 15,
      "outputs": [
        {
          "output_type": "stream",
          "text": [
            "    support itemsets\n",
            "0  0.607165      (6)\n",
            "Runtime of the program is 9.228073560000013\n",
            "Empty DataFrame\n",
            "Columns: [support, itemsets]\n",
            "Index: []\n",
            "Runtime of the program is 9.396260275999992\n",
            "Empty DataFrame\n",
            "Columns: [support, itemsets]\n",
            "Index: []\n",
            "Runtime of the program is 8.904266962000008\n",
            "Empty DataFrame\n",
            "Columns: [support, itemsets]\n",
            "Index: []\n",
            "Runtime of the program is 9.429178936\n",
            "Empty DataFrame\n",
            "Columns: [support, itemsets]\n",
            "Index: []\n",
            "Runtime of the program is 8.970117546000012\n",
            "Empty DataFrame\n",
            "Columns: [support, itemsets]\n",
            "Index: []\n",
            "Runtime of the program is 9.506490143000008\n",
            "Empty DataFrame\n",
            "Columns: [support, itemsets]\n",
            "Index: []\n",
            "Runtime of the program is 9.064253803000014\n",
            "Empty DataFrame\n",
            "Columns: [support, itemsets]\n",
            "Index: []\n",
            "Runtime of the program is 9.468667546000006\n"
          ],
          "name": "stdout"
        }
      ]
    },
    {
      "cell_type": "code",
      "metadata": {
        "colab": {
          "base_uri": "https://localhost:8080/",
          "height": 279
        },
        "id": "v9e85gn5qw80",
        "outputId": "4b8c6ed0-6f90-4aa9-bdfc-af524c8e28b7"
      },
      "source": [
        "plt.xlabel('List Length')\n",
        "plt.ylabel('Time Complexity')\n",
        "plt.plot(fpk_elements, fpk_times, label ='Fp-Growth')\n",
        "plt.grid()\n",
        "plt.legend()\n",
        "plt.savefig('fpgrowthkosarak.pdf',bbox_inches='tight')\n",
        "plt.show()\n"
      ],
      "execution_count": 16,
      "outputs": [
        {
          "output_type": "display_data",
          "data": {
            "image/png": "[encoded data removed]",
            "text/plain": [
              "<Figure size 432x288 with 1 Axes>"
            ]
          },
          "metadata": {
            "tags": [],
            "needs_background": "light"
          }
        }
      ]
    },
    {
      "cell_type": "code",
      "metadata": {
        "id": "ScmPIy_63SAp"
      },
      "source": [
        "data={\"Apriori\":[43.56,11.86,4.81,1.59,0.67,0.24,0.09,0.05],\"Fp-Growth\":[9.70,4.78,2.14,0.78,0.48,0.19,0.12,0.09]}\n",
        "index = [0.6,0.65,0.70,0.75,0.80,0.85,0.90,0.95]\n",
        "dataFrame = pd.DataFrame(data=data, index=index);\n",
        "\n",
        " \n",
        "my_colors = ['lightseagreen','sandybrown']\n",
        "# Draw a vertical bar chart\n",
        "\n",
        "dataFrame.plot.bar(rot=15,color=my_colors);\n",
        "plt.legend(loc='upper center', bbox_to_anchor=(0.5, 1.2))\n",
        "plt.ylabel(\"Times Taken to Run Apriori Algorithm\")\n",
        "plt.xlabel(\"Thresholds\")\n",
        "plt.savefig('Chess.pdf',bbox_inches='tight')\n",
        "\n",
        "plt.show(block=True);"
      ],
      "execution_count": null,
      "outputs": []
    },
    {
      "cell_type": "code",
      "metadata": {
        "id": "wlS91cVq4Cr4"
      },
      "source": [
        "data={\"Apriori\":[43.56,11.86,4.81,1.59,0.67,0.24,0.09,0.05],\"Fp-Growth\":[9.70,4.78,2.14,0.78,0.48,0.19,0.12,0.09]}\n",
        "index = [0.6,0.65,0.70,0.75,0.80,0.85,0.90,0.95]\n",
        "dataFrame = pd.DataFrame(data=data, index=index);\n",
        "\n",
        " \n",
        "my_colors = ['lightseagreen','sandybrown']\n",
        "# Draw a vertical bar chart\n",
        "\n",
        "dataFrame.plot.bar(rot=15,color=my_colors);\n",
        "plt.legend(loc='upper center', bbox_to_anchor=(0.5, 1.2))\n",
        "plt.ylabel(\"Times Taken to Run Fp Growth Algorithm\")\n",
        "plt.xlabel(\"Thresholds\")\n",
        "plt.savefig('Kosarak.pdf',bbox_inches='tight')\n",
        "\n",
        "plt.show(block=True);"
      ],
      "execution_count": null,
      "outputs": []
    },
    {
      "cell_type": "code",
      "metadata": {
        "id": "NBoZHFOd6aQH"
      },
      "source": [
        "apk_times"
      ],
      "execution_count": null,
      "outputs": []
    }
  ]
}